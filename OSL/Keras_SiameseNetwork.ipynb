{
 "cells": [
  {
   "cell_type": "code",
   "execution_count": 1,
   "metadata": {},
   "outputs": [],
   "source": [
    "#### This part is about training a Siamemese network on a syntethic dataset created from MNIST for Color histogram ####\n",
    "####                                   differentiation                                                             ####"
   ]
  },
  {
   "cell_type": "code",
   "execution_count": 4,
   "metadata": {},
   "outputs": [],
   "source": [
    "#### Importing libraries\n",
    "\n",
    "import torch\n",
    "import cv2\n",
    "import time\n",
    "import os\n",
    "import pickle\n",
    "import numpy as np\n",
    "import random\n",
    "import matplotlib.pyplot as plt\n",
    "import tensorflow as tf\n",
    "\n",
    "from bokeh.plotting import figure, show\n",
    "import tensorflow as tf\n",
    "from tensorflow.keras.models import Sequential\n",
    "from tensorflow.keras.optimizers import Adam\n",
    "from tensorflow.keras.layers import Conv2D, ZeroPadding2D, Activation, Input, concatenate\n",
    "from tensorflow.keras.models import Model\n",
    "\n",
    "#from tensorflow.keras.layers.normalization import BatchNormalization\n",
    "from tensorflow.keras.layers import MaxPooling2D            # pooling\n",
    "from tensorflow.keras.layers import Concatenate             # merge\n",
    "from tensorflow.keras.layers import Lambda, Flatten, Dense  # core\n",
    "from tensorflow.keras.datasets import mnist\n",
    "\n",
    "from tensorflow.keras.layers import Layer\n",
    "from tensorflow.keras.regularizers import l2\n",
    "from tensorflow.keras import backend as K\n",
    "\n",
    "from sklearn.utils import shuffle\n",
    "\n",
    "import numpy.random as rng"
   ]
  },
  {
   "cell_type": "code",
   "execution_count": 6,
   "metadata": {},
   "outputs": [],
   "source": [
    "### We will use the MNIST Dataset from Keras\n",
    "\n",
    "output_path = r\"C:\\Users\\TRMoussa-PCHP\\OneDrive\\PSC\\psc\\PSC\\notebook\\Deep_Model\\output\"\n",
    "weigths_path = r\"C:\\Users\\TRMoussa-PCHP\\OneDrive\\PSC\\psc\\PSC\\notebook\\Deep_Model\\weights\""
   ]
  },
  {
   "cell_type": "code",
   "execution_count": 648,
   "metadata": {},
   "outputs": [],
   "source": [
    "### Loading datas\n",
    "## from mnist\n",
    "\n",
    "# the data, split between train and test sets\n",
    "(xtrain_m, ytrain_m), (xtest_m, ytest_m) = mnist.load_data()\n",
    "xtrain_m = xtrain_m.astype('float32')\n",
    "xtest_m  = xtest_m.astype('float32')\n",
    "xtrain_m /= 255\n",
    "xtest_m  /= 255\n",
    "\n"
   ]
  },
  {
   "cell_type": "code",
   "execution_count": 649,
   "metadata": {},
   "outputs": [
    {
     "data": {
      "text/plain": [
       "(60000, 28, 28)"
      ]
     },
     "execution_count": 649,
     "metadata": {},
     "output_type": "execute_result"
    }
   ],
   "source": [
    "xtrain_m.shape"
   ]
  },
  {
   "cell_type": "code",
   "execution_count": 650,
   "metadata": {},
   "outputs": [],
   "source": [
    "##  Saving training datas\n",
    "\n",
    "with open(os.path.join(output_path,\"train_mnist.pickle\"), \"wb\") as f:\n",
    "    pickle.dump((xtrain_m,ytrain_m),f)"
   ]
  },
  {
   "cell_type": "code",
   "execution_count": 651,
   "metadata": {},
   "outputs": [],
   "source": [
    "##  Saving testing datas\n",
    "\n",
    "with open(os.path.join(output_path,\"test_mnist.pickle\"), \"wb\") as f:\n",
    "    pickle.dump((xtest_m,ytest_m),f)"
   ]
  },
  {
   "cell_type": "code",
   "execution_count": 1,
   "metadata": {},
   "outputs": [],
   "source": [
    "##  Fonctions to initialize bias for trainig\n",
    "\n",
    "def initialize_bias(shape, name=None, dtype = None):\n",
    "    \"\"\"\n",
    "        The paper, http://www.cs.utoronto.ca/~gkoch/files/msc-thesis.pdf\n",
    "        suggests to initialize CNN layer bias with mean as 0.5 and standard deviation of 0.01\n",
    "    \"\"\"\n",
    "    return np.random.normal(loc = 0.5, scale = 1e-2, size = shape)"
   ]
  },
  {
   "cell_type": "code",
   "execution_count": 2,
   "metadata": {},
   "outputs": [],
   "source": [
    "##  Fonctions to initialize weights for trainig\n",
    "\n",
    "def initialize_weights(shape, name=None, dtype = None):\n",
    "    \"\"\"\n",
    "        The paper, http://www.cs.utoronto.ca/~gkoch/files/msc-thesis.pdf\n",
    "        suggests to initialize CNN layer weights with mean as 0.0 and standard deviation of 0.01\n",
    "    \"\"\"\n",
    "    return np.random.normal(loc = 0.0, scale = 1e-2, size = shape)"
   ]
  },
  {
   "cell_type": "code",
   "execution_count": 3,
   "metadata": {},
   "outputs": [],
   "source": [
    "## Function for L_2 distance between tensors\n",
    "\n",
    "def euclidean_distance(vects):\n",
    "    x, y = vects\n",
    "    sum_square = K.sum(K.square(x - y), axis=1, keepdims=True)\n",
    "    return K.sqrt(K.maximum(sum_square, K.epsilon()))\n",
    "\n",
    "def eucl_dist_output_shape(shapes):\n",
    "    shape1, shape2 = shapes\n",
    "    return (shape1[0], 1)\n"
   ]
  },
  {
   "cell_type": "code",
   "execution_count": 7,
   "metadata": {},
   "outputs": [],
   "source": [
    "# First Model with a well known architecture for feature extraction "
   ]
  },
  {
   "cell_type": "code",
   "execution_count": 8,
   "metadata": {},
   "outputs": [],
   "source": [
    "###  Construction of a siamese network, the bemlow one is popular for CNN tasks\n",
    "###  We modifies the layers inputs to make it usables for our task\n",
    "\n",
    "def get_siamese_model_compatible(input_shape):\n",
    "    \"\"\"\n",
    "        Model architecture based on the one provided in: http://www.cs.utoronto.ca/~gkoch/files/msc-thesis.pdf\n",
    "    \"\"\"\n",
    "    \n",
    "    # Define the tensors for the two input images\n",
    "    left_input = Input(input_shape)\n",
    "    right_input = Input(input_shape)\n",
    "    \n",
    "    # Convolutional Neural Network\n",
    "    model = Sequential()\n",
    "    model.add(Conv2D(64, (5,5), activation='relu', input_shape=input_shape,\n",
    "                   kernel_initializer=initialize_weights, kernel_regularizer=l2(2e-4)))\n",
    "    model.add(MaxPooling2D())\n",
    "    model.add(Conv2D(128, (4,4), activation='relu',\n",
    "                     kernel_initializer=initialize_weights,\n",
    "                     bias_initializer=initialize_bias, kernel_regularizer=l2(2e-4)))\n",
    "    model.add(MaxPooling2D())\n",
    "    model.add(Conv2D(128, (2,2), activation='relu', kernel_initializer=initialize_weights,\n",
    "                     bias_initializer=initialize_bias, kernel_regularizer=l2(2e-4)))\n",
    "    model.add(MaxPooling2D())\n",
    "    model.add(Conv2D(256, (2,2), activation='relu', kernel_initializer=initialize_weights,\n",
    "                     bias_initializer=initialize_bias, kernel_regularizer=l2(2e-4)))\n",
    "    model.add(Flatten())\n",
    "    model.add(Dense(4096, activation='sigmoid',\n",
    "                   kernel_regularizer=l2(1e-3),\n",
    "                   kernel_initializer=initialize_weights,bias_initializer=initialize_bias))\n",
    "    \n",
    "    # Generate the encodings (feature vectors) for the two images\n",
    "    encoded_l = model(left_input)\n",
    "    encoded_r = model(right_input)\n",
    "    \n",
    "    # Add a customized layer to compute the absolute difference between the encodings\n",
    "    L1_layer = Lambda(lambda tensors:K.abs(tensors[0] - tensors[1]))\n",
    "    L1_distance = L1_layer([encoded_l, encoded_r])\n",
    "    \n",
    "    # Add a dense layer with a sigmoid unit to generate the similarity score\n",
    "    prediction = Dense(1,activation='sigmoid',bias_initializer=initialize_bias)(L1_distance)\n",
    "    \n",
    "    # Connect the inputs with the outputs\n",
    "    siamese_net = Model(inputs=[left_input,right_input],outputs=prediction)\n",
    "    \n",
    "    # return the model\n",
    "    return siamese_net\n"
   ]
  },
  {
   "cell_type": "code",
   "execution_count": 9,
   "metadata": {},
   "outputs": [
    {
     "name": "stdout",
     "output_type": "stream",
     "text": [
      "WARNING:tensorflow:From C:\\Users\\TRMoussa-PCHP\\Anaconda3\\envs\\EviPSC\\lib\\site-packages\\tensorflow_core\\python\\ops\\resource_variable_ops.py:1630: calling BaseResourceVariable.__init__ (from tensorflow.python.ops.resource_variable_ops) with constraint is deprecated and will be removed in a future version.\n",
      "Instructions for updating:\n",
      "If using Keras pass *_constraint arguments to layers.\n",
      "Model: \"model\"\n",
      "__________________________________________________________________________________________________\n",
      "Layer (type)                    Output Shape         Param #     Connected to                     \n",
      "==================================================================================================\n",
      "input_1 (InputLayer)            [(None, 30, 30, 1)]  0                                            \n",
      "__________________________________________________________________________________________________\n",
      "input_2 (InputLayer)            [(None, 30, 30, 1)]  0                                            \n",
      "__________________________________________________________________________________________________\n",
      "sequential (Sequential)         (None, 4096)         1382528     input_1[0][0]                    \n",
      "                                                                 input_2[0][0]                    \n",
      "__________________________________________________________________________________________________\n",
      "lambda (Lambda)                 (None, 4096)         0           sequential[1][0]                 \n",
      "                                                                 sequential[2][0]                 \n",
      "__________________________________________________________________________________________________\n",
      "dense_1 (Dense)                 (None, 1)            4097        lambda[0][0]                     \n",
      "==================================================================================================\n",
      "Total params: 1,386,625\n",
      "Trainable params: 1,386,625\n",
      "Non-trainable params: 0\n",
      "__________________________________________________________________________________________________\n"
     ]
    }
   ],
   "source": [
    "model = get_siamese_model_compatible((30, 30, 1))\n",
    "model.summary()"
   ]
  },
  {
   "cell_type": "code",
   "execution_count": 10,
   "metadata": {},
   "outputs": [
    {
     "name": "stdout",
     "output_type": "stream",
     "text": [
      "WARNING:tensorflow:From C:\\Users\\TRMoussa-PCHP\\Anaconda3\\envs\\EviPSC\\lib\\site-packages\\tensorflow_core\\python\\ops\\nn_impl.py:183: where (from tensorflow.python.ops.array_ops) is deprecated and will be removed in a future version.\n",
      "Instructions for updating:\n",
      "Use tf.where in 2.0, which has the same broadcast rule as np.where\n"
     ]
    }
   ],
   "source": [
    "optimizer = Adam(lr = 0.00006)\n",
    "model.compile(loss=\"binary_crossentropy\",optimizer=optimizer)"
   ]
  },
  {
   "cell_type": "code",
   "execution_count": 7,
   "metadata": {},
   "outputs": [],
   "source": [
    "## Load training and testing datas \n",
    "## from mnist\n",
    "with open(os.path.join(output_path, \"train_mnist.pickle\"), \"rb\") as f:\n",
    "    (xtrain_m, ytrain_m) = pickle.load(f)\n",
    "    \n",
    "    \n",
    "with open(os.path.join(output_path, \"test_mnist.pickle\"), \"rb\") as f:\n",
    "    (xtest_m, ytest_m) = pickle.load(f)"
   ]
  },
  {
   "cell_type": "code",
   "execution_count": 8,
   "metadata": {},
   "outputs": [
    {
     "data": {
      "text/plain": [
       "(60000, 28, 28)"
      ]
     },
     "execution_count": 8,
     "metadata": {},
     "output_type": "execute_result"
    }
   ],
   "source": [
    "xtrain_m.shape"
   ]
  },
  {
   "cell_type": "code",
   "execution_count": null,
   "metadata": {},
   "outputs": [],
   "source": [
    "## create pairs for mnist train and testing\n",
    "\n",
    "def create_pairs(x, digit_indices):\n",
    "    '''Positive and negative pair creation.\n",
    "    Alternates between positive and negative pairs.\n",
    "    '''\n",
    "    pairs = []\n",
    "    labels = []\n",
    "    n = min([len(digit_indices[d]) for d in range(num_classes)]) - 1\n",
    "    for d in range(num_classes):\n",
    "        for i in range(n):\n",
    "            z1, z2 = digit_indices[d][i], digit_indices[d][i + 1]\n",
    "            pairs += [[x[z1], x[z2]]]\n",
    "            inc = random.randrange(1, num_classes)\n",
    "            dn = (d + inc) % num_classes\n",
    "            z1, z2 = digit_indices[d][i], digit_indices[dn][i]\n",
    "            pairs += [[x[z1], x[z2]]]\n",
    "            labels += [1, 0]\n",
    "    return np.array(pairs), np.array(labels)\n"
   ]
  },
  {
   "cell_type": "code",
   "execution_count": 661,
   "metadata": {},
   "outputs": [],
   "source": [
    "# create training and test positive and negative pairs\n",
    "\n",
    "num_classes = 10\n",
    "\n",
    "digit_indices = [np.where(ytrain_m == i)[0] for i in range(num_classes)]\n",
    "tr_pairs, tr_y = create_pairs(xtrain_m, digit_indices)\n",
    "\n",
    "digit_indices = [np.where(ytest_m == i)[0] for i in range(num_classes)]\n",
    "te_pairs, te_y = create_pairs(xtest_m, digit_indices)\n"
   ]
  },
  {
   "cell_type": "code",
   "execution_count": 662,
   "metadata": {},
   "outputs": [
    {
     "name": "stdout",
     "output_type": "stream",
     "text": [
      "0\n",
      "17820\n"
     ]
    },
    {
     "data": {
      "image/png": "[encoded data removed]",
      "text/plain": [
       "<Figure size 432x288 with 2 Axes>"
      ]
     },
     "metadata": {
      "needs_background": "light"
     },
     "output_type": "display_data"
    }
   ],
   "source": [
    "ind = 1807\n",
    "#plt.imshow(te_pairs[8950][1], cmap = \"gray\")\n",
    "\n",
    "print(te_y[ind])\n",
    "print(len(te_pairs))\n",
    "\n",
    "image_pair = te_pairs[ind]\n",
    "#plt.imshow(image_pair[0], cmap = plt.cm.gray)\n",
    "plt.subplot(211)\n",
    "plt.imshow(image_pair[0], cmap = plt.cm.gray)\n",
    "\n",
    "plt.subplot(212)\n",
    "plt.imshow(image_pair[1], cmap = plt.cm.gray)\n",
    "\n",
    "plt.show()"
   ]
  },
  {
   "cell_type": "code",
   "execution_count": 663,
   "metadata": {},
   "outputs": [],
   "source": [
    "# train\n",
    "#rms = RMSprop()\n",
    "#model.compile(loss=contrastive_loss, optimizer=rms, metrics=[accuracy])\n",
    "#model.fit([tr_pairs[:, 0], tr_pairs[:, 1]], tr_y,\n",
    "#          batch_size=128,\n",
    "#          epochs=epochs,\n",
    "#          validation_data=([te_pairs[:, 0], te_pairs[:, 1]], te_y))"
   ]
  },
  {
   "cell_type": "code",
   "execution_count": null,
   "metadata": {},
   "outputs": [],
   "source": []
  },
  {
   "cell_type": "code",
   "execution_count": 21,
   "metadata": {},
   "outputs": [],
   "source": [
    "#### Functions from processing mnist database images in order to produce synthesis histrogram datas for our model\n",
    "\n",
    "def process_digit(digit_image):\n",
    "\n",
    "    digit_image = digit_image.astype(np.float32) / 255\n",
    "\n",
    "    rd = np.random.rand((6))\n",
    "    bool_list = rd > 0.4\n",
    "    \n",
    "    use_GBlur,use_dilate,do_closig,use_MBlur,do_erode_first,do_erode_second = bool_list\n",
    "\n",
    "    target_shape = (30,30)\n",
    "    digit_image = cv2.resize(digit_image, target_shape)\n",
    "\n",
    "    if(use_GBlur):\n",
    "        digit_image = cv2.GaussianBlur(digit_image, (5,5), cv2.BORDER_DEFAULT)\n",
    "\n",
    "    if(use_dilate):\n",
    "        kernel = np.ones((2,2), np.uint8)\n",
    "        digit_image = cv2.dilate(digit_image, kernel, iterations = 1)\n",
    "\n",
    "    if(do_closig):\n",
    "        kernel = np.ones((3,3), np.uint8)\n",
    "        digit_image = cv2.morphologyEx(digit_image, cv2.MORPH_CLOSE, kernel)\n",
    "\n",
    "    if(use_MBlur):\n",
    "        digit_image = cv2.medianBlur(digit_image, 5)\n",
    "        \n",
    "    if(do_erode_first):\n",
    "        kernel = np.ones((2,2), np.uint8)\n",
    "        digit_image = cv2.erode(digit_image, kernel)\n",
    "\n",
    "    if(do_erode_second):\n",
    "        kernel = np.ones((3,3), np.uint8)\n",
    "        digit_image = cv2.erode(digit_image, kernel)\n",
    "\n",
    "    return bool_list, digit_image\n"
   ]
  },
  {
   "cell_type": "code",
   "execution_count": null,
   "metadata": {},
   "outputs": [],
   "source": []
  },
  {
   "cell_type": "code",
   "execution_count": 665,
   "metadata": {},
   "outputs": [
    {
     "name": "stdout",
     "output_type": "stream",
     "text": [
      "[ True  True  True  True False  True]\n",
      "(30, 30)\n"
     ]
    },
    {
     "data": {
      "image/png": "[encoded data removed]",
      "text/plain": [
       "<Figure size 432x288 with 1 Axes>"
      ]
     },
     "metadata": {
      "needs_background": "light"
     },
     "output_type": "display_data"
    }
   ],
   "source": [
    "## Create joined dataset and process inputs to have histograms\n",
    "# for now we will only use MNIST\n",
    "\n",
    "bool_s, image = process_digit(te_pairs[6859][0])\n",
    "plt.imshow(image, cmap = plt.cm.gray)\n",
    "print(bool_s)\n",
    "print(image.shape)\n"
   ]
  },
  {
   "cell_type": "code",
   "execution_count": 666,
   "metadata": {},
   "outputs": [
    {
     "name": "stdout",
     "output_type": "stream",
     "text": [
      "108400 108400\n"
     ]
    }
   ],
   "source": [
    "# (inputs,targets) from digits dataset \n",
    "# (tre_pair,tr_y) from mnist dataset\n",
    "\n",
    "print(len(tr_pairs),len(tr_y))"
   ]
  },
  {
   "cell_type": "code",
   "execution_count": 12,
   "metadata": {},
   "outputs": [],
   "source": [
    "#### Function we will use tho process bothimages of a pair with the same operation in order to preserve similarities\n",
    "\n",
    "def process_digit_pair(digit_image_pair):\n",
    "    \n",
    "    digit_image_pair_res = [0,1]\n",
    "    digit_image_pair_res[0] = digit_image_pair[0].astype(np.float32) / 255\n",
    "    digit_image_pair_res[1] = digit_image_pair[1].astype(np.float32) / 255\n",
    "\n",
    "    \n",
    "    rd = np.random.rand((6))\n",
    "    bool_list = rd > 0.3\n",
    "    \n",
    "    use_GBlur,use_dilate,do_closig,use_MBlur,do_erode_first,do_erode_second = bool_list\n",
    "\n",
    "    target_shape = (30,30)\n",
    "    for i in range(2):\n",
    "        digit_image = cv2.resize(digit_image_pair[i], target_shape)\n",
    "\n",
    "        if(use_GBlur):\n",
    "            digit_image = cv2.GaussianBlur(digit_image, (5,5), cv2.BORDER_DEFAULT)\n",
    "\n",
    "        if(use_dilate):\n",
    "            kernel = np.ones((2,2), np.uint8)\n",
    "            digit_image = cv2.dilate(digit_image, kernel, iterations = 1)\n",
    "\n",
    "        if(do_closig):\n",
    "            kernel = np.ones((3,3), np.uint8)\n",
    "            digit_image = cv2.morphologyEx(digit_image, cv2.MORPH_CLOSE, kernel)\n",
    "\n",
    "        if(use_MBlur):\n",
    "            digit_image = cv2.medianBlur(digit_image, 5)\n",
    "\n",
    "        if(do_erode_first):\n",
    "            kernel = np.ones((3,3), np.uint8)\n",
    "            digit_image = cv2.erode(digit_image, kernel)\n",
    "\n",
    "        if(do_erode_second):\n",
    "            kernel = np.ones((3,3), np.uint8)\n",
    "            digit_image = cv2.erode(digit_image, kernel)\n",
    "            \n",
    "        digit_image_pair_res[i] = digit_image\n",
    "\n",
    "    return bool_list, digit_image_pair_res\n"
   ]
  },
  {
   "cell_type": "code",
   "execution_count": 668,
   "metadata": {},
   "outputs": [
    {
     "data": {
      "image/png": "[encoded data removed]",
      "text/plain": [
       "<Figure size 432x288 with 2 Axes>"
      ]
     },
     "metadata": {
      "needs_background": "light"
     },
     "output_type": "display_data"
    },
    {
     "name": "stdout",
     "output_type": "stream",
     "text": [
      "[False  True False  True  True  True]\n",
      "0\n"
     ]
    }
   ],
   "source": [
    "ind = 7095\n",
    "bool_s, image_pair = process_digit_pair(tr_pairs[ind])\n",
    "#plt.imshow(image_pair[0], cmap = plt.cm.gray)\n",
    "plt.subplot(211)\n",
    "plt.imshow(image_pair[0], cmap = plt.cm.gray)\n",
    "\n",
    "plt.subplot(212)\n",
    "plt.imshow(image_pair[1], cmap = plt.cm.gray)\n",
    "\n",
    "plt.show()\n",
    "print(bool_s)\n",
    "print(tr_y[ind])"
   ]
  },
  {
   "cell_type": "code",
   "execution_count": 669,
   "metadata": {},
   "outputs": [],
   "source": [
    "## adapt datas from Mnist , Synthetisation for histogram data\n",
    "#tr_pairs, tr_y\n",
    "tr_pairs_proceded = []\n",
    "for ind in range(len(tr_pairs)):\n",
    "    bool_s, image_pair = process_digit_pair(tr_pairs[ind])\n",
    "    tr_pairs_proceded.append(image_pair)\n",
    "\n",
    "tr_y_proceded = tr_y\n",
    "    \n",
    "#te_pairs, te_y\n",
    "te_pairs_proceded = []\n",
    "for ind in range(len(te_pairs)):\n",
    "    bool_s, image_pair = process_digit_pair(te_pairs[ind])\n",
    "    te_pairs_proceded.append(image_pair)\n",
    "    \n",
    "te_y_proceded = te_y"
   ]
  },
  {
   "cell_type": "code",
   "execution_count": 670,
   "metadata": {},
   "outputs": [
    {
     "data": {
      "image/png": "[encoded data removed]",
      "text/plain": [
       "<Figure size 432x288 with 2 Axes>"
      ]
     },
     "metadata": {
      "needs_background": "light"
     },
     "output_type": "display_data"
    },
    {
     "name": "stdout",
     "output_type": "stream",
     "text": [
      "0\n"
     ]
    }
   ],
   "source": [
    "ind = 1927\n",
    "\n",
    "image_pair = tr_pairs_proceded[ind]\n",
    "plt.subplot(211)\n",
    "plt.imshow(image_pair[0], cmap = plt.cm.gray)\n",
    "\n",
    "plt.subplot(212)\n",
    "plt.imshow(image_pair[1], cmap = plt.cm.gray)\n",
    "\n",
    "plt.show()\n",
    "print(tr_y_proceded[ind])"
   ]
  },
  {
   "cell_type": "code",
   "execution_count": 671,
   "metadata": {},
   "outputs": [],
   "source": [
    "tr_pairs_proceded = np.array(tr_pairs_proceded)\n",
    "te_pairs_proceded = np.array(te_pairs_proceded)"
   ]
  },
  {
   "cell_type": "code",
   "execution_count": 672,
   "metadata": {},
   "outputs": [
    {
     "data": {
      "text/plain": [
       "(108400, 2, 30, 30)"
      ]
     },
     "execution_count": 672,
     "metadata": {},
     "output_type": "execute_result"
    }
   ],
   "source": [
    "tr_pairs_proceded.shape"
   ]
  },
  {
   "cell_type": "code",
   "execution_count": 23,
   "metadata": {},
   "outputs": [],
   "source": [
    "def compute_accuracy(y_true, y_pred):\n",
    "    '''Compute classification accuracy with a fixed threshold on distances.\n",
    "    '''\n",
    "    pred = y_pred.ravel() > 0.5\n",
    "    return np.mean(pred == y_true)\n"
   ]
  },
  {
   "cell_type": "code",
   "execution_count": 600,
   "metadata": {},
   "outputs": [
    {
     "name": "stdout",
     "output_type": "stream",
     "text": [
      "Train on 114181 samples, validate on 18891 samples\n",
      "Epoch 1/10\n",
      "114181/114181 [==============================] - 692s 6ms/sample - loss: 0.3480 - val_loss: 0.3359\n",
      "Epoch 2/10\n",
      "114181/114181 [==============================] - 728s 6ms/sample - loss: 0.3294 - val_loss: 0.3283\n",
      "Epoch 3/10\n",
      "114181/114181 [==============================] - 701s 6ms/sample - loss: 0.3218 - val_loss: 0.3236\n",
      "Epoch 4/10\n",
      "114181/114181 [==============================] - 633s 6ms/sample - loss: 0.3173 - val_loss: 0.3217\n",
      "Epoch 5/10\n",
      "114181/114181 [==============================] - 634s 6ms/sample - loss: 0.3126 - val_loss: 0.3178\n",
      "Epoch 6/10\n",
      "114181/114181 [==============================] - 601s 5ms/sample - loss: 0.3092 - val_loss: 0.3130\n",
      "Epoch 7/10\n",
      "114181/114181 [==============================] - 585s 5ms/sample - loss: 0.3057 - val_loss: 0.3132\n",
      "Epoch 8/10\n",
      "114181/114181 [==============================] - 582s 5ms/sample - loss: 0.3020 - val_loss: 0.3112\n",
      "Epoch 9/10\n",
      "114181/114181 [==============================] - 583s 5ms/sample - loss: 0.2994 - val_loss: 0.3064\n",
      "Epoch 10/10\n",
      "114181/114181 [==============================] - 619s 5ms/sample - loss: 0.2969 - val_loss: 0.3081\n"
     ]
    },
    {
     "data": {
      "text/plain": [
       "<tensorflow.python.keras.callbacks.History at 0x1f3065830f0>"
      ]
     },
     "execution_count": 600,
     "metadata": {},
     "output_type": "execute_result"
    }
   ],
   "source": [
    "### Training step\n",
    "\n",
    "epochs = 20\n",
    "\n",
    "model.fit([tr_pairs_proceded[:, 0].reshape(108400,30,30,1), tr_pairs_proceded[:, 1].reshape(108400,30,30,1)], tr_y_proceded,\n",
    "          batch_size=128,\n",
    "          epochs=epochs,\n",
    "          validation_data=([te_pairs_proceded[:, 0].reshape(17820,30,30,1), te_pairs_proceded[:, 1].reshape(17820,30,30,1)], te_y_proceded))\n"
   ]
  },
  {
   "cell_type": "code",
   "execution_count": 673,
   "metadata": {},
   "outputs": [],
   "source": [
    "### Saving the model\n",
    "\n",
    "#from tensorflow.keras.models import load_model\n",
    "model.save(os.path.join(weigths_path, 'model_siamese_first.h5'))"
   ]
  },
  {
   "cell_type": "code",
   "execution_count": 15,
   "metadata": {},
   "outputs": [
    {
     "name": "stdout",
     "output_type": "stream",
     "text": [
      "WARNING:tensorflow:From C:\\Users\\TRMoussa-PCHP\\Anaconda3\\envs\\EviPSC\\lib\\site-packages\\tensorflow_core\\python\\ops\\init_ops.py:97: calling Zeros.__init__ (from tensorflow.python.ops.init_ops) with dtype is deprecated and will be removed in a future version.\n",
      "Instructions for updating:\n",
      "Call initializer instance with the dtype argument instead of passing it to the constructor\n",
      "WARNING:tensorflow:From C:\\Users\\TRMoussa-PCHP\\Anaconda3\\envs\\EviPSC\\lib\\site-packages\\tensorflow_core\\python\\ops\\init_ops.py:97: calling GlorotUniform.__init__ (from tensorflow.python.ops.init_ops) with dtype is deprecated and will be removed in a future version.\n",
      "Instructions for updating:\n",
      "Call initializer instance with the dtype argument instead of passing it to the constructor\n"
     ]
    }
   ],
   "source": [
    "### Loading the model\n",
    "\n",
    "from tensorflow.keras.models import load_model\n",
    "from tensorflow.keras.utils import CustomObjectScope\n",
    "#help(tf.keras.initialisations)\n",
    "with CustomObjectScope({'initialize_weights':initialize_weights,'initialize_bias':initialize_bias}):\n",
    "    loadded_model = load_model(os.path.join(weigths_path, 'model_siamese_first.h5'))"
   ]
  },
  {
   "cell_type": "code",
   "execution_count": 16,
   "metadata": {},
   "outputs": [
    {
     "name": "stdout",
     "output_type": "stream",
     "text": [
      "Model: \"model_2\"\n",
      "__________________________________________________________________________________________________\n",
      "Layer (type)                    Output Shape         Param #     Connected to                     \n",
      "==================================================================================================\n",
      "input_11 (InputLayer)           [(None, 30, 30, 1)]  0                                            \n",
      "__________________________________________________________________________________________________\n",
      "input_12 (InputLayer)           [(None, 30, 30, 1)]  0                                            \n",
      "__________________________________________________________________________________________________\n",
      "sequential_5 (Sequential)       (None, 4096)         1382528     input_11[0][0]                   \n",
      "                                                                 input_12[0][0]                   \n",
      "__________________________________________________________________________________________________\n",
      "lambda_2 (Lambda)               (None, 4096)         0           sequential_5[1][0]               \n",
      "                                                                 sequential_5[2][0]               \n",
      "__________________________________________________________________________________________________\n",
      "dense_5 (Dense)                 (None, 1)            4097        lambda_2[0][0]                   \n",
      "==================================================================================================\n",
      "Total params: 1,386,625\n",
      "Trainable params: 1,386,625\n",
      "Non-trainable params: 0\n",
      "__________________________________________________________________________________________________\n"
     ]
    }
   ],
   "source": [
    "loadded_model.summary()"
   ]
  },
  {
   "cell_type": "code",
   "execution_count": 677,
   "metadata": {},
   "outputs": [
    {
     "name": "stdout",
     "output_type": "stream",
     "text": [
      "* Accuracy on training set: 93.49%\n",
      "* Accuracy on test set: 93.23%\n"
     ]
    }
   ],
   "source": [
    "# Compute final accuracy on training and test sets\n",
    "\n",
    "y_pred = model.predict([tr_pairs_proceded[:, 0].reshape(108400,30,30,1), tr_pairs_proceded[:, 1].reshape(108400,30,30,1)])\n",
    "tr_acc = compute_accuracy(tr_y_proceded, y_pred)\n",
    "y_pred = model.predict([te_pairs_proceded[:, 0].reshape(17820,30,30,1), te_pairs_proceded[:, 1].reshape(17820,30,30,1)])\n",
    "te_acc = compute_accuracy(te_y_proceded, y_pred)\n",
    "\n",
    "print('* Accuracy on training set: %0.2f%%' % (100 * tr_acc))\n",
    "print('* Accuracy on test set: %0.2f%%' % (100 * te_acc))"
   ]
  },
  {
   "cell_type": "code",
   "execution_count": 685,
   "metadata": {},
   "outputs": [
    {
     "data": {
      "image/png": "[encoded data removed]",
      "text/plain": [
       "<Figure size 432x288 with 2 Axes>"
      ]
     },
     "metadata": {
      "needs_background": "light"
     },
     "output_type": "display_data"
    },
    {
     "name": "stdout",
     "output_type": "stream",
     "text": [
      "0\n",
      "Prediction with siamese network 0.0037182376254349947\n",
      "Correlation distance = 0.38779598378359476\n"
     ]
    }
   ],
   "source": [
    "### Observation of the correctness of the model\n",
    "\n",
    "ind = 11001\n",
    "image_pair = tr_pairs_proceded[ind]\n",
    "plt.subplot(211)\n",
    "plt.imshow(image_pair[0], cmap = plt.cm.gray)\n",
    "\n",
    "plt.subplot(212)\n",
    "plt.imshow(image_pair[1], cmap = plt.cm.gray)\n",
    "\n",
    "plt.show()\n",
    "print(tr_y_proceded[ind])\n",
    "\n",
    "#print(tr_pairs_proceded[ind, 0].reshape(1,30,30,1).shape)\n",
    "prediction = loadded_model.predict([tr_pairs_proceded[ind, 0].reshape(1,30,30,1), tr_pairs_proceded[ind, 1].reshape(1,30,30,1)])\n",
    "\n",
    "distance = dist = cv2.compareHist(tr_pairs_proceded[ind, 0], tr_pairs_proceded[ind, 1], cv2.HISTCMP_CORREL)\n",
    "\n",
    "print(\"Prediction with siamese network {}\".format(prediction[0,0]))\n",
    "\n",
    "print(\"Correlation distance = {}\".format(distance))"
   ]
  },
  {
   "cell_type": "code",
   "execution_count": 18,
   "metadata": {},
   "outputs": [],
   "source": [
    "# Second base_model using a minimal architecture for improving performance"
   ]
  },
  {
   "cell_type": "code",
   "execution_count": 9,
   "metadata": {},
   "outputs": [],
   "source": [
    "## We define a new create_pair method for data labelling\n",
    "\n",
    "def create_pairs(x, digit_indices):\n",
    "    '''Positive and negative pair creation.\n",
    "    Alternates between positive and negative pairs.\n",
    "    '''\n",
    "    pairs = []\n",
    "    labels = []\n",
    "    n = min([len(digit_indices[d]) for d in range(num_classes)]) - 1\n",
    "    for d in range(num_classes):\n",
    "        for i in range(n):\n",
    "            z1, z2 = digit_indices[d][i], digit_indices[d][i]\n",
    "            pairs += [[x[z1], x[z2]]]\n",
    "            inc = random.randrange(1, num_classes)\n",
    "            dn = (d + inc) % num_classes\n",
    "            z1, z2 = digit_indices[d][i], digit_indices[dn][i]\n",
    "            pairs += [[x[z1], x[z2]]]\n",
    "            labels += [1, 0]\n",
    "        # We reuse the non used rest\n",
    "        for i in range(n+1, len(digit_indices[d])-1):\n",
    "            z1, z2 = digit_indices[d][i], digit_indices[d][i + 1]\n",
    "            pairs += [[x[z1], x[z2]]]\n",
    "            labels += [0]\n",
    "            \n",
    "    return np.array(pairs), np.array(labels)\n"
   ]
  },
  {
   "cell_type": "code",
   "execution_count": 10,
   "metadata": {},
   "outputs": [],
   "source": [
    "# create training+test positive and negative pairs\n",
    "\n",
    "num_classes = 10\n",
    "\n",
    "digit_indices = [np.where(ytrain_m == i)[0] for i in range(num_classes)]\n",
    "tr_pairs, tr_y = create_pairs(xtrain_m, digit_indices)\n",
    "\n",
    "digit_indices = [np.where(ytest_m == i)[0] for i in range(num_classes)]\n",
    "te_pairs, te_y = create_pairs(xtest_m, digit_indices)\n"
   ]
  },
  {
   "cell_type": "code",
   "execution_count": 13,
   "metadata": {},
   "outputs": [],
   "source": [
    "## adapt datas from Mnist , Synthetisation for histogram data\n",
    "#tr_pairs, tr_y\n",
    "tr_pairs_proceded = []\n",
    "for ind in range(len(tr_pairs)):\n",
    "    bool_s, image_pair = process_digit_pair(tr_pairs[ind])\n",
    "    tr_pairs_proceded.append(image_pair)\n",
    "\n",
    "tr_y_proceded = tr_y\n",
    "    \n",
    "#te_pairs, te_y\n",
    "te_pairs_proceded = []\n",
    "for ind in range(len(te_pairs)):\n",
    "    bool_s, image_pair = process_digit_pair(te_pairs[ind])\n",
    "    te_pairs_proceded.append(image_pair)\n",
    "    \n",
    "te_y_proceded = te_y"
   ]
  },
  {
   "cell_type": "code",
   "execution_count": 14,
   "metadata": {},
   "outputs": [
    {
     "data": {
      "image/png": "[encoded data removed]",
      "text/plain": [
       "<Figure size 432x288 with 2 Axes>"
      ]
     },
     "metadata": {
      "needs_background": "light"
     },
     "output_type": "display_data"
    },
    {
     "name": "stdout",
     "output_type": "stream",
     "text": [
      "1\n"
     ]
    }
   ],
   "source": [
    "ind = 7096\n",
    "\n",
    "image_pair = tr_pairs_proceded[ind]\n",
    "plt.subplot(211)\n",
    "plt.imshow(image_pair[0], cmap = plt.cm.gray)\n",
    "\n",
    "plt.subplot(212)\n",
    "plt.imshow(image_pair[1], cmap = plt.cm.gray)\n",
    "\n",
    "plt.show()\n",
    "print(tr_y_proceded[ind])"
   ]
  },
  {
   "cell_type": "code",
   "execution_count": 15,
   "metadata": {},
   "outputs": [],
   "source": [
    "tr_pairs_proceded = np.array(tr_pairs_proceded)\n",
    "te_pairs_proceded = np.array(te_pairs_proceded)"
   ]
  },
  {
   "cell_type": "code",
   "execution_count": 16,
   "metadata": {},
   "outputs": [
    {
     "data": {
      "text/plain": [
       "(114181, 2, 30, 30)"
      ]
     },
     "execution_count": 16,
     "metadata": {},
     "output_type": "execute_result"
    }
   ],
   "source": [
    "tr_pairs_proceded.shape"
   ]
  },
  {
   "cell_type": "code",
   "execution_count": 17,
   "metadata": {},
   "outputs": [],
   "source": [
    "def contrastive_loss(y_true, y_pred):\n",
    "    '''Contrastive loss from Hadsell-et-al.'06\n",
    "    http://yann.lecun.com/exdb/publis/pdf/hadsell-chopra-lecun-06.pdf\n",
    "    '''\n",
    "    margin = 1\n",
    "    square_pred = K.square(y_pred)\n",
    "    margin_square = K.square(K.maximum(margin - y_pred, 0))\n",
    "    return K.mean(y_true * square_pred + (1 - y_true) * margin_square)\n"
   ]
  },
  {
   "cell_type": "code",
   "execution_count": 18,
   "metadata": {},
   "outputs": [
    {
     "name": "stdout",
     "output_type": "stream",
     "text": [
      "WARNING:tensorflow:From C:\\Users\\TRMoussa-PCHP\\Anaconda3\\envs\\EviPSC\\lib\\site-packages\\tensorflow_core\\python\\ops\\resource_variable_ops.py:1630: calling BaseResourceVariable.__init__ (from tensorflow.python.ops.resource_variable_ops) with constraint is deprecated and will be removed in a future version.\n",
      "Instructions for updating:\n",
      "If using Keras pass *_constraint arguments to layers.\n",
      "WARNING:tensorflow:From C:\\Users\\TRMoussa-PCHP\\Anaconda3\\envs\\EviPSC\\lib\\site-packages\\tensorflow_core\\python\\ops\\math_grad.py:1424: where (from tensorflow.python.ops.array_ops) is deprecated and will be removed in a future version.\n",
      "Instructions for updating:\n",
      "Use tf.where in 2.0, which has the same broadcast rule as np.where\n",
      "Train on 114181 samples, validate on 18891 samples\n",
      "Epoch 1/50\n",
      "114181/114181 [==============================] - 22s 191us/sample - loss: 0.0500 - accuracy: 0.9590 - val_loss: 0.0219 - val_accuracy: 0.9681\n",
      "Epoch 2/50\n",
      "114181/114181 [==============================] - 9s 79us/sample - loss: 0.0286 - accuracy: 0.9819 - val_loss: 0.0170 - val_accuracy: 0.9744\n",
      "Epoch 3/50\n",
      "114181/114181 [==============================] - 9s 78us/sample - loss: 0.0245 - accuracy: 0.9844 - val_loss: 0.0155 - val_accuracy: 0.9765\n",
      "Epoch 4/50\n",
      "114181/114181 [==============================] - 9s 77us/sample - loss: 0.0221 - accuracy: 0.9854 - val_loss: 0.0153 - val_accuracy: 0.9771\n",
      "Epoch 5/50\n",
      "114181/114181 [==============================] - 9s 77us/sample - loss: 0.0207 - accuracy: 0.9864 - val_loss: 0.0148 - val_accuracy: 0.9784\n",
      "Epoch 6/50\n",
      "114181/114181 [==============================] - 9s 76us/sample - loss: 0.0198 - accuracy: 0.9870 - val_loss: 0.0149 - val_accuracy: 0.9785\n",
      "Epoch 7/50\n",
      "114181/114181 [==============================] - 9s 77us/sample - loss: 0.0189 - accuracy: 0.9876 - val_loss: 0.0140 - val_accuracy: 0.9789\n",
      "Epoch 8/50\n",
      "114181/114181 [==============================] - 9s 77us/sample - loss: 0.0184 - accuracy: 0.9871 - val_loss: 0.0138 - val_accuracy: 0.9799\n",
      "Epoch 9/50\n",
      "114181/114181 [==============================] - 9s 76us/sample - loss: 0.0180 - accuracy: 0.9871 - val_loss: 0.0129 - val_accuracy: 0.9815\n",
      "Epoch 10/50\n",
      "114181/114181 [==============================] - 9s 76us/sample - loss: 0.0176 - accuracy: 0.9871 - val_loss: 0.0144 - val_accuracy: 0.9788\n",
      "Epoch 11/50\n",
      "114181/114181 [==============================] - 9s 76us/sample - loss: 0.0168 - accuracy: 0.9878 - val_loss: 0.0137 - val_accuracy: 0.9811\n",
      "Epoch 12/50\n",
      "114181/114181 [==============================] - 9s 77us/sample - loss: 0.0166 - accuracy: 0.9880 - val_loss: 0.0133 - val_accuracy: 0.9818\n",
      "Epoch 13/50\n",
      "114181/114181 [==============================] - 9s 77us/sample - loss: 0.0163 - accuracy: 0.9882 - val_loss: 0.0138 - val_accuracy: 0.9803\n",
      "Epoch 14/50\n",
      "114181/114181 [==============================] - 9s 77us/sample - loss: 0.0156 - accuracy: 0.9891 - val_loss: 0.0118 - val_accuracy: 0.9837\n",
      "Epoch 15/50\n",
      "114181/114181 [==============================] - 9s 77us/sample - loss: 0.0162 - accuracy: 0.9882 - val_loss: 0.0127 - val_accuracy: 0.9821\n",
      "Epoch 16/50\n",
      "114181/114181 [==============================] - 9s 78us/sample - loss: 0.0161 - accuracy: 0.9886 - val_loss: 0.0131 - val_accuracy: 0.9813\n",
      "Epoch 17/50\n",
      "114181/114181 [==============================] - 9s 79us/sample - loss: 0.0156 - accuracy: 0.9889 - val_loss: 0.0133 - val_accuracy: 0.9819\n",
      "Epoch 18/50\n",
      "114181/114181 [==============================] - 9s 78us/sample - loss: 0.0153 - accuracy: 0.9891 - val_loss: 0.0139 - val_accuracy: 0.9803\n",
      "Epoch 19/50\n",
      "114181/114181 [==============================] - 9s 78us/sample - loss: 0.0155 - accuracy: 0.9887 - val_loss: 0.0126 - val_accuracy: 0.9819\n",
      "Epoch 20/50\n",
      "114181/114181 [==============================] - 9s 78us/sample - loss: 0.0156 - accuracy: 0.9886 - val_loss: 0.0131 - val_accuracy: 0.9819\n",
      "Epoch 21/50\n",
      "114181/114181 [==============================] - 9s 81us/sample - loss: 0.0153 - accuracy: 0.9886 - val_loss: 0.0118 - val_accuracy: 0.9828\n",
      "Epoch 22/50\n",
      "114181/114181 [==============================] - 9s 80us/sample - loss: 0.0152 - accuracy: 0.9889 - val_loss: 0.0125 - val_accuracy: 0.9825\n",
      "Epoch 23/50\n",
      "114181/114181 [==============================] - 9s 83us/sample - loss: 0.0152 - accuracy: 0.9889 - val_loss: 0.0120 - val_accuracy: 0.9824\n",
      "Epoch 24/50\n",
      "114181/114181 [==============================] - 9s 81us/sample - loss: 0.0150 - accuracy: 0.9885 - val_loss: 0.0118 - val_accuracy: 0.9830\n",
      "Epoch 25/50\n",
      "114181/114181 [==============================] - 9s 79us/sample - loss: 0.0142 - accuracy: 0.9892 - val_loss: 0.0119 - val_accuracy: 0.9842\n",
      "Epoch 26/50\n",
      "114181/114181 [==============================] - 9s 79us/sample - loss: 0.0144 - accuracy: 0.9895 - val_loss: 0.0127 - val_accuracy: 0.9825\n",
      "Epoch 27/50\n",
      "114181/114181 [==============================] - 9s 79us/sample - loss: 0.0147 - accuracy: 0.9888 - val_loss: 0.0118 - val_accuracy: 0.9840\n",
      "Epoch 28/50\n",
      "114181/114181 [==============================] - 9s 79us/sample - loss: 0.0145 - accuracy: 0.9891 - val_loss: 0.0118 - val_accuracy: 0.9841\n",
      "Epoch 29/50\n",
      "114181/114181 [==============================] - 9s 81us/sample - loss: 0.0144 - accuracy: 0.9892 - val_loss: 0.0131 - val_accuracy: 0.9814\n",
      "Epoch 30/50\n",
      "114181/114181 [==============================] - 9s 80us/sample - loss: 0.0142 - accuracy: 0.9895 - val_loss: 0.0108 - val_accuracy: 0.9861\n",
      "Epoch 31/50\n",
      "114181/114181 [==============================] - 9s 79us/sample - loss: 0.0140 - accuracy: 0.9897 - val_loss: 0.0118 - val_accuracy: 0.9851\n",
      "Epoch 32/50\n",
      "114181/114181 [==============================] - 9s 80us/sample - loss: 0.0139 - accuracy: 0.9895 - val_loss: 0.0122 - val_accuracy: 0.9836\n",
      "Epoch 33/50\n",
      "114181/114181 [==============================] - 8s 74us/sample - loss: 0.0140 - accuracy: 0.9893 - val_loss: 0.0121 - val_accuracy: 0.9835\n",
      "Epoch 34/50\n",
      "114181/114181 [==============================] - 9s 75us/sample - loss: 0.0142 - accuracy: 0.9892 - val_loss: 0.0122 - val_accuracy: 0.9834\n",
      "Epoch 35/50\n",
      "114181/114181 [==============================] - 9s 75us/sample - loss: 0.0139 - accuracy: 0.9892 - val_loss: 0.0123 - val_accuracy: 0.9845\n",
      "Epoch 36/50\n",
      "114181/114181 [==============================] - 9s 75us/sample - loss: 0.0144 - accuracy: 0.9889 - val_loss: 0.0128 - val_accuracy: 0.9824\n",
      "Epoch 37/50\n",
      "114181/114181 [==============================] - 9s 76us/sample - loss: 0.0145 - accuracy: 0.9884 - val_loss: 0.0118 - val_accuracy: 0.9850\n",
      "Epoch 38/50\n",
      "114181/114181 [==============================] - 9s 76us/sample - loss: 0.0143 - accuracy: 0.9886 - val_loss: 0.0115 - val_accuracy: 0.9850\n",
      "Epoch 39/50\n",
      "114181/114181 [==============================] - 10s 86us/sample - loss: 0.0138 - accuracy: 0.9893 - val_loss: 0.0117 - val_accuracy: 0.9848\n",
      "Epoch 40/50\n",
      "114181/114181 [==============================] - 10s 92us/sample - loss: 0.0138 - accuracy: 0.9891 - val_loss: 0.0119 - val_accuracy: 0.9841\n",
      "Epoch 41/50\n",
      "114181/114181 [==============================] - 9s 78us/sample - loss: 0.0137 - accuracy: 0.9893 - val_loss: 0.0120 - val_accuracy: 0.9843\n",
      "Epoch 42/50\n",
      "114181/114181 [==============================] - 9s 77us/sample - loss: 0.0140 - accuracy: 0.9886 - val_loss: 0.0116 - val_accuracy: 0.9851\n",
      "Epoch 43/50\n",
      "114181/114181 [==============================] - 9s 78us/sample - loss: 0.0136 - accuracy: 0.9889 - val_loss: 0.0125 - val_accuracy: 0.9847\n",
      "Epoch 44/50\n",
      "114181/114181 [==============================] - 9s 80us/sample - loss: 0.0139 - accuracy: 0.9889 - val_loss: 0.0126 - val_accuracy: 0.9840\n",
      "Epoch 45/50\n",
      "114181/114181 [==============================] - 8s 74us/sample - loss: 0.0135 - accuracy: 0.9890 - val_loss: 0.0115 - val_accuracy: 0.9841\n",
      "Epoch 46/50\n",
      "114181/114181 [==============================] - 8s 74us/sample - loss: 0.0136 - accuracy: 0.9890 - val_loss: 0.0117 - val_accuracy: 0.9853\n",
      "Epoch 47/50\n",
      "114181/114181 [==============================] - 9s 75us/sample - loss: 0.0132 - accuracy: 0.9897 - val_loss: 0.0121 - val_accuracy: 0.9850\n",
      "Epoch 48/50\n",
      "114181/114181 [==============================] - 9s 80us/sample - loss: 0.0140 - accuracy: 0.9884 - val_loss: 0.0115 - val_accuracy: 0.9854\n",
      "Epoch 49/50\n",
      "114181/114181 [==============================] - 9s 78us/sample - loss: 0.0138 - accuracy: 0.9888 - val_loss: 0.0115 - val_accuracy: 0.9846\n"
     ]
    },
    {
     "name": "stdout",
     "output_type": "stream",
     "text": [
      "Epoch 50/50\n",
      "114181/114181 [==============================] - 8s 73us/sample - loss: 0.0136 - accuracy: 0.9891 - val_loss: 0.0128 - val_accuracy: 0.9837\n"
     ]
    },
    {
     "data": {
      "text/plain": [
       "<tensorflow.python.keras.callbacks.History at 0x22b27a33f28>"
      ]
     },
     "execution_count": 18,
     "metadata": {},
     "output_type": "execute_result"
    }
   ],
   "source": [
    "from __future__ import absolute_import\n",
    "from __future__ import print_function\n",
    "import numpy as np\n",
    "\n",
    "import random\n",
    "#from keras.datasets import mnist\n",
    "#from keras.models import Model\n",
    "from tensorflow.keras.layers import Dropout\n",
    "from tensorflow.keras.optimizers import RMSprop\n",
    "from tensorflow.keras import backend as K\n",
    "\n",
    "num_classes = 10\n",
    "epochs = 50\n",
    "\n",
    "\n",
    "\n",
    "\n",
    "def accuracy(y_true, y_pred):\n",
    "    '''Compute classification accuracy with a fixed threshold on distances.\n",
    "    '''\n",
    "    return K.mean(K.equal(y_true, K.cast(y_pred < 0.5, y_true.dtype)))\n",
    "\n",
    "def create_base_network(input_shape):\n",
    "    '''Base network to be shared (eq. to feature extraction).\n",
    "    '''\n",
    "    input = Input(shape=input_shape)\n",
    "    x = Flatten()(input)\n",
    "    x = Dense(128, activation='relu')(x)\n",
    "    x = Dropout(0.1)(x)\n",
    "    x = Dense(128, activation='relu')(x)\n",
    "    x = Dropout(0.1)(x)\n",
    "    x = Dense(128, activation='relu')(x)\n",
    "    return Model(input, x)\n",
    "\n",
    "\n",
    "input_shape = (30,30,1)\n",
    "# network definition\n",
    "base_network = create_base_network(input_shape)\n",
    "\n",
    "input_a = Input(shape=input_shape)\n",
    "input_b = Input(shape=input_shape)\n",
    "\n",
    "# because we re-use the same instance `base_network`,\n",
    "# the weights of the network\n",
    "# will be shared across the two branches\n",
    "processed_a = base_network(input_a)\n",
    "processed_b = base_network(input_b)\n",
    "\n",
    "#def euclidean_distance(vects):\n",
    "#    x, y = vects\n",
    "#    sum_square = K.sum(K.square(x - y), axis=1, keepdims=True)\n",
    "#    return K.sqrt(K.maximum(sum_square, K.epsilon()))\n",
    "\n",
    "# Add a customized layer to compute the absolute difference between the encodings\n",
    "L2_layer = Lambda(lambda tensors:K.sqrt(K.maximum(K.sum(K.square(tensors[0] - tensors[1]), axis=1, keepdims=True), K.epsilon())))\n",
    "distance = L2_layer([processed_a, processed_b])\n",
    "\n",
    "\n",
    "#distance = Lambda(euclidean_distance,\n",
    "#                  output_shape=eucl_dist_output_shape)([processed_a, processed_b])\n",
    "\n",
    "model_m = Model([input_a, input_b], distance)\n",
    "\n",
    "# train\n",
    "rms = RMSprop()\n",
    "model_m.compile(loss=contrastive_loss, optimizer=rms, metrics=[accuracy])\n",
    "model_m.fit([tr_pairs_proceded[:, 0].reshape(114181,30,30,1), tr_pairs_proceded[:, 1].reshape(114181,30,30,1)], tr_y_proceded,\n",
    "          batch_size=128,\n",
    "          epochs=epochs,\n",
    "          validation_data=([te_pairs_proceded[:, 0].reshape(18891,30,30,1), te_pairs_proceded[:, 1].reshape(18891,30,30,1)], te_y_proceded))\n",
    "\n"
   ]
  },
  {
   "cell_type": "code",
   "execution_count": 31,
   "metadata": {},
   "outputs": [
    {
     "name": "stdout",
     "output_type": "stream",
     "text": [
      "* Accuracy on training set: 99.17%\n",
      "* Accuracy on test set: 98.50%\n"
     ]
    }
   ],
   "source": [
    "def compute_accuracy(y_true, y_pred):\n",
    "    '''Compute classification accuracy with a fixed threshold on distances.\n",
    "    '''\n",
    "    pred = y_pred.ravel() < 0.5\n",
    "    return np.mean(pred == y_true)\n",
    "\n",
    "\n",
    "# compute final accuracy on training and test sets\n",
    "y_pred = model_m.predict([tr_pairs_proceded[:, 0].reshape(114181,30,30,1), tr_pairs_proceded[:, 1].reshape(114181,30,30,1)])\n",
    "tr_acc = compute_accuracy(tr_y_proceded, y_pred)\n",
    "y_pred = model_m.predict([te_pairs_proceded[:, 0].reshape(18891,30,30,1), te_pairs_proceded[:, 1].reshape(18891,30,30,1)])\n",
    "te_acc = compute_accuracy(te_y_proceded, y_pred)\n",
    "\n",
    "print('* Accuracy on training set: %0.2f%%' % (100 * tr_acc))\n",
    "print('* Accuracy on test set: %0.2f%%' % (100 * te_acc))"
   ]
  },
  {
   "cell_type": "code",
   "execution_count": 23,
   "metadata": {},
   "outputs": [
    {
     "data": {
      "image/png": "[encoded data removed]",
      "text/plain": [
       "<Figure size 432x288 with 2 Axes>"
      ]
     },
     "metadata": {
      "needs_background": "light"
     },
     "output_type": "display_data"
    },
    {
     "name": "stdout",
     "output_type": "stream",
     "text": [
      "1\n",
      "Prediction with siamese network 0.9996837722428609\n",
      "Correlation distance = 1.0\n"
     ]
    }
   ],
   "source": [
    "ind = 114  #11111\n",
    "image_pair = tr_pairs_proceded[ind]\n",
    "plt.subplot(211)\n",
    "plt.imshow(image_pair[0], cmap = plt.cm.gray)\n",
    "\n",
    "plt.subplot(212)\n",
    "plt.imshow(image_pair[1], cmap = plt.cm.gray)\n",
    "\n",
    "plt.show()\n",
    "print(tr_y_proceded[ind])\n",
    "\n",
    "#print(tr_pairs_proceded[ind, 0].reshape(1,30,30,1).shape)\n",
    "prediction = model_m.predict([tr_pairs_proceded[ind, 0].reshape(1,30,30,1), tr_pairs_proceded[ind, 1].reshape(1,30,30,1)])\n",
    "\n",
    "distance = dist = cv2.compareHist(tr_pairs_proceded[ind, 0], tr_pairs_proceded[ind, 1], cv2.HISTCMP_CORREL)\n",
    "\n",
    "print(\"Prediction with siamese network {}\".format(1 - prediction[0,0]))\n",
    "\n",
    "print(\"Correlation distance = {}\".format(distance))"
   ]
  },
  {
   "cell_type": "code",
   "execution_count": 24,
   "metadata": {},
   "outputs": [],
   "source": [
    "# Save the Network\n",
    "\n",
    "from tensorflow.keras.models import load_model\n",
    "model_m.save(os.path.join(weigths_path, 'model_siamese.h5'))"
   ]
  },
  {
   "cell_type": "code",
   "execution_count": 33,
   "metadata": {},
   "outputs": [],
   "source": [
    "from tensorflow.keras.utils import CustomObjectScope\n",
    "#help(tf.keras.initialisations)\n",
    "with CustomObjectScope({'initialize_weights':initialize_weights,'initialize_bias':initialize_bias,\n",
    "                       'contrastive_loss': contrastive_loss}):\n",
    "    loadded_model = load_model(os.path.join(weigths_path, 'model_siamese.h5'))"
   ]
  },
  {
   "cell_type": "code",
   "execution_count": 34,
   "metadata": {},
   "outputs": [
    {
     "name": "stdout",
     "output_type": "stream",
     "text": [
      "* Accuracy on training set: 99.17%\n",
      "* Accuracy on test set: 98.50%\n"
     ]
    }
   ],
   "source": [
    "def compute_accuracy(y_true, y_pred):\n",
    "    '''Compute classification accuracy with a fixed threshold on distances.\n",
    "    '''\n",
    "    pred = y_pred.ravel() < 0.5\n",
    "    return np.mean(pred == y_true)\n",
    "\n",
    "\n",
    "# compute final accuracy on training and test sets\n",
    "y_pred = loadded_model.predict([tr_pairs_proceded[:, 0].reshape(114181,30,30,1), tr_pairs_proceded[:, 1].reshape(114181,30,30,1)])\n",
    "tr_acc = compute_accuracy(tr_y_proceded, y_pred)\n",
    "y_pred = loadded_model.predict([te_pairs_proceded[:, 0].reshape(18891,30,30,1), te_pairs_proceded[:, 1].reshape(18891,30,30,1)])\n",
    "te_acc = compute_accuracy(te_y_proceded, y_pred)\n",
    "\n",
    "print('* Accuracy on training set: %0.2f%%' % (100 * tr_acc))\n",
    "print('* Accuracy on test set: %0.2f%%' % (100 * te_acc))"
   ]
  }
 ],
 "metadata": {
  "kernelspec": {
   "display_name": "Python 3",
   "language": "python",
   "name": "python3"
  },
  "language_info": {
   "codemirror_mode": {
    "name": "ipython",
    "version": 3
   },
   "file_extension": ".py",
   "mimetype": "text/x-python",
   "name": "python",
   "nbconvert_exporter": "python",
   "pygments_lexer": "ipython3",
   "version": "3.7.3"
  }
 },
 "nbformat": 4,
 "nbformat_minor": 2
}
